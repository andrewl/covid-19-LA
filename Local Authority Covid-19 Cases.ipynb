{
 "cells": [
  {
   "cell_type": "markdown",
   "metadata": {},
   "source": [
    "COVID-19 cases per English Local Authority \n",
    "==\n",
    "\n",
    "Data taken from https://coronavirus.data.gov.uk/"
   ]
  },
  {
   "cell_type": "code",
   "execution_count": null,
   "metadata": {
    "scrolled": true,
    "tags": [
     "hide_input"
    ]
   },
   "outputs": [],
   "source": [
    "#https://www.ons.gov.uk/peoplepopulationandcommunity/populationandmigration/populationestimates/datasets/populationestimatesforukenglandandwalesscotlandandnorthernireland\n",
    "\n",
    "\n",
    "!wget -N -P data \"https://coronavirus.data.gov.uk/downloads/csv/coronavirus-cases_latest.csv\"\n",
    "!wget -nc -O data/population.xlsx \"https://www.ons.gov.uk/file?uri=%2fpeoplepopulationandcommunity%2fpopulationandmigration%2fpopulationestimates%2fdatasets%2fpopulationestimatesforukenglandandwalesscotlandandnorthernireland%2fmid2019april2020localauthoritydistrictcodes/ukmidyearestimates20192020ladcodes.xls\"\n"
   ]
  },
  {
   "cell_type": "code",
   "execution_count": null,
   "metadata": {
    "tags": [
     "hide_input"
    ]
   },
   "outputs": [],
   "source": [
    "import warnings\n",
    "import pandas as pd\n",
    "import numpy as notebook\n",
    "import matplotlib.pyplot as plt\n",
    "import matplotlib as mp\n",
    "import time\n",
    "import ipywidgets as widgets\n",
    "from IPython.core.display import display, HTML\n",
    "warnings.filterwarnings('ignore')"
   ]
  },
  {
   "cell_type": "code",
   "execution_count": null,
   "metadata": {
    "scrolled": true
   },
   "outputs": [],
   "source": [
    "#read in the ONS population spreadsheet\n",
    "df_pop = pd.read_excel(\"data/population.xlsx\", sheet_name=5,header=4)\n",
    "\n",
    "#read in the coronaviruses csv\n",
    "df_cases = pd.read_csv(\"data/coronavirus-cases_latest.csv\", index_col=None, header=0)\n",
    "    \n",
    "#create a proper date field\n",
    "df_cases['date'] = pd.to_datetime(df_cases['Specimen date'])\n",
    "df_cases['date-index'] = pd.to_datetime(df_cases['Specimen date'])\n",
    "df_cases.set_index('date-index', inplace=True)\n",
    "\n",
    "df_cases = df_cases[df_cases['date'] > pd.to_datetime('2020-03-01')]\n",
    "\n",
    "#merge ons and cases data\n",
    "df = pd.merge(df_cases, df_pop, how='inner', left_on='Area code', right_on='Code')\n",
    "\n",
    "#create rate col for daily lab confirmed cases\n",
    "df[\"Daily lab-confirmed cases rate\"] = (df[\"Daily lab-confirmed cases\"] / df[\"All ages\"])*100000"
   ]
  },
  {
   "cell_type": "code",
   "execution_count": null,
   "metadata": {
    "jupyter": {
     "source_hidden": true
    }
   },
   "outputs": [],
   "source": [
    "def compare_regions(region_1_stats, region_2_stats):\n",
    "\n",
    "    plt.style.use('seaborn-white')\n",
    "\n",
    "    plt.rcParams['font.family'] = 'serif'\n",
    "    plt.rcParams['font.serif'] = 'Arial'\n",
    "    plt.rcParams['font.monospace'] = 'Ubuntu Mono'\n",
    "    plt.rcParams['font.size'] = 20\n",
    "    plt.rcParams['axes.labelsize'] = 14\n",
    "    plt.rcParams['axes.labelweight'] = 'normal'\n",
    "    plt.rcParams['axes.titlesize'] = 16\n",
    "    plt.rcParams['xtick.labelsize'] = 12\n",
    "    plt.rcParams['ytick.labelsize'] = 12\n",
    "    plt.rcParams['legend.fontsize'] = 14\n",
    "    plt.rcParams['figure.titlesize'] = 18\n",
    "    plt.rcParams['lines.linewidth'] = 3\n",
    "    \n",
    "    region_1_stats[\"7-day-rolling-average\"] = region_1_stats[\"Daily lab-confirmed cases rate\"].rolling(10, min_periods=1).mean()\n",
    "    region_2_stats[\"7-day-rolling-average\"] = region_2_stats[\"Daily lab-confirmed cases rate\"].rolling(10, min_periods=1).mean()\n",
    "    \n",
    "    region_1_name = region_1_stats['Name'].max()\n",
    "    region_2_name = region_2_stats['Name'].max()\n",
    "    \n",
    "    latest_figures = region_1_stats[region_1_stats['date']==region_1_stats['date'].max()]\n",
    "    \n",
    "    #display((latest_figures['Daily lab-confirmed cases']))\n",
    "\n",
    "    #display(HTML('<h3>Total number of lab confirmed cases</h3>' + latest_figures['Cumulative lab-confirmed cases'].to_string()))\n",
    "    \n",
    "    #this_la_boundary = local_authority_boundaries.merge(latest_figures, how='right', left_on='CODE', right_on='Area code')\n",
    "    #display(this_la_boundary.head())\n",
    "    #a = geopandas.sjoin(this_la_boundary, local_authority_boundaries, how=\"inner\", op='intersects')\n",
    "    #a.plot()\n",
    "    \n",
    "    \n",
    "    fig, (ax1, ax2) = plt.subplots(2,1,sharex=True,figsize=(15,15))\n",
    "        \n",
    "    fig.suptitle('Comparing ' + region_1_name + ' and ' + region_2_name, ha='left',va='bottom')\n",
    "    \n",
    "    ax1.plot_date(region_1_stats[\"date\"],\n",
    "                 region_1_stats[\"7-day-rolling-average\"],\n",
    "                 linestyle='solid',\n",
    "                 color=\"#118ab2\",\n",
    "                 ms=0\n",
    "                )\n",
    "    \n",
    "    ax1.plot_date(region_2_stats[\"date\"],\n",
    "                 region_2_stats[\"7-day-rolling-average\"],\n",
    "                 linestyle='solid',\n",
    "                 color=\"#ef476f\",\n",
    "                 ms=0\n",
    "                )\n",
    "    \n",
    "    ax1.axvline(pd.to_datetime(['3/23/2020']), linestyle=\"dotted\", color=\"#f9c74f\")\n",
    "    ax1.axvline(pd.to_datetime(['5/10/2020']), linestyle=\"dotted\", color=\"#f8961e\" )    \n",
    "    ax1.axvline(pd.to_datetime(['6/1/2020']), linestyle=\"dotted\", color=\"#f3722c\" )                         \n",
    "\n",
    "\n",
    "    ax1.set_title('Lab-confirmed cases per 100k population (7 day rolling average)',loc=\"left\")  \n",
    "    \n",
    "    ax1.legend(labels=[region_1_name,\n",
    "                       region_2_name,\n",
    "                       'Lockdown start',\n",
    "                       'Stay Alert phase start',\n",
    "                       'Phase 2 lockdown start' ],\n",
    "               frameon=True )\n",
    "    \n",
    "    plt.xticks(rotation=45);  \n",
    "    ax1.spines['top'].set_visible(False)\n",
    "    ax1.spines['bottom'].set_visible(False)\n",
    "    ax1.spines['left'].set_visible(False)\n",
    "    ax1.spines['right'].set_visible(False)\n",
    "    ax1.grid(True,which='major',axis='both')\n",
    "    \n",
    "    #ax1.plot()\n",
    "    ax2.plot_date(region_1_stats[\"date\"],\n",
    "                 region_1_stats[\"Cumulative lab-confirmed cases rate\"],\n",
    "                 linestyle='solid',\n",
    "                 color=\"#118ab2\",\n",
    "                 ms=0)\n",
    "    \n",
    "    ax2.plot_date(region_2_stats[\"date\"],\n",
    "                 region_2_stats[\"Cumulative lab-confirmed cases rate\"],\n",
    "                 linestyle='solid',\n",
    "                 color=\"#ef476f\",\n",
    "                 ms=0)\n",
    "    \n",
    "    ax2.axvline(pd.to_datetime(['3/23/2020']), linestyle=\"dotted\", color=\"#f9c74f\")\n",
    "    ax2.axvline(pd.to_datetime(['5/10/2020']), linestyle=\"dotted\", color=\"#f8961e\" )    \n",
    "    ax2.axvline(pd.to_datetime(['6/1/2020']), linestyle=\"dotted\", color=\"#f3722c\" )                         \n",
    "\n",
    "    ax2.set_title('Cumulative lab-confirmed cases per 100k population',loc='left')\n",
    "   \n",
    "    plt.xticks(rotation=60);  \n",
    "    ax2.spines['top'].set_visible(False)\n",
    "    ax2.spines['bottom'].set_visible(False)\n",
    "    ax2.spines['left'].set_visible(False)\n",
    "    ax2.spines['right'].set_visible(False) \n",
    "    ax2.grid(True,which='major',axis='both')\n",
    "    \n",
    "    #ax2.plot()\n",
    "    \n",
    "    return fig\n",
    "    "
   ]
  },
  {
   "cell_type": "code",
   "execution_count": null,
   "metadata": {},
   "outputs": [],
   "source": [
    "#local_authority_boundaries = geopandas.read_file('./data/Data/GB/district_borough_unitary_region.shp')\n",
    "\n",
    "#local_authority_boundaries.head()\n",
    "all_areas = df['Area name'].unique()\n",
    "\n",
    "dropdown_area_1 = widgets.Dropdown(options=all_areas,value=all_areas.min(), description=\"Compare\")\n",
    "dropdown_area_2 = widgets.Dropdown(options=all_areas,value=\"England\", description=\"with\")\n",
    "\n",
    "output_stats = widgets.Output()\n",
    "\n",
    "def update_graphs():\n",
    "    region_1_stats = df[df['Area name']==dropdown_area_1.value]\n",
    "    region_2_stats = df[df['Area name']==dropdown_area_2.value]\n",
    "    output_stats.clear_output()\n",
    "    with output_stats:\n",
    "        display(compare_regions(region_1_stats, region_2_stats))\n",
    "        \n",
    "\n",
    "def dropdown_area_1_eventhandler(change):\n",
    "    update_graphs()\n",
    "    \n",
    "def dropdown_area_2_eventhandler(change):\n",
    "    update_graphs()\n",
    "    \n",
    "        \n",
    "dropdown_area_1.observe(dropdown_area_1_eventhandler, names='value')\n",
    "dropdown_area_2.observe(dropdown_area_2_eventhandler, names='value')\n",
    "display(dropdown_area_1,dropdown_area_2,output_stats)\n",
    "update_graphs()"
   ]
  }
 ],
 "metadata": {
  "celltoolbar": "Tags",
  "kernelspec": {
   "display_name": "Python 3",
   "language": "python",
   "name": "python3"
  },
  "language_info": {
   "codemirror_mode": {
    "name": "ipython",
    "version": 3
   },
   "file_extension": ".py",
   "mimetype": "text/x-python",
   "name": "python",
   "nbconvert_exporter": "python",
   "pygments_lexer": "ipython3",
   "version": "3.7.4"
  }
 },
 "nbformat": 4,
 "nbformat_minor": 4
}
